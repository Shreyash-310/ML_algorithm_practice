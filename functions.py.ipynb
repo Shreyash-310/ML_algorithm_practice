{
 "cells": [
  {
   "cell_type": "code",
   "execution_count": 1,
   "metadata": {},
   "outputs": [],
   "source": [
    "# making a function \n",
    "def greet_user():\n",
    "    \"Display a simple greeting\"\n",
    "    print(\"Hello!\")"
   ]
  },
  {
   "cell_type": "code",
   "execution_count": 2,
   "metadata": {},
   "outputs": [
    {
     "name": "stdout",
     "output_type": "stream",
     "text": [
      "Hello!\n"
     ]
    }
   ],
   "source": [
    "greet_user()"
   ]
  },
  {
   "cell_type": "code",
   "execution_count": 3,
   "metadata": {},
   "outputs": [],
   "source": [
    "# passing a argument\n",
    "def greet_user(username):\n",
    "    \"Display a simple greeting\"\n",
    "    print(\"Hello, \" + username + \"!\")"
   ]
  },
  {
   "cell_type": "code",
   "execution_count": 6,
   "metadata": {},
   "outputs": [
    {
     "name": "stdout",
     "output_type": "stream",
     "text": [
      "Hello, shree!\n",
      "Hello, vicky!\n"
     ]
    }
   ],
   "source": [
    "greet_user('shree')\n",
    "greet_user('vicky')"
   ]
  },
  {
   "cell_type": "code",
   "execution_count": 7,
   "metadata": {},
   "outputs": [],
   "source": [
    "# using a positional arguments\n",
    "def describe_pet(animal,name):\n",
    "    \"Display information about pet\"\n",
    "    print(\"\\nI have a \" + animal + \".\")\n",
    "    print(\"It's name is \" + name + \".\")"
   ]
  },
  {
   "cell_type": "code",
   "execution_count": 8,
   "metadata": {},
   "outputs": [
    {
     "name": "stdout",
     "output_type": "stream",
     "text": [
      "\n",
      "I have a hamster.\n",
      "It's name is harry.\n",
      "\n",
      "I have a dog.\n",
      "It's name is willie.\n"
     ]
    }
   ],
   "source": [
    "describe_pet('hamster','harry')\n",
    "describe_pet('dog','willie')"
   ]
  },
  {
   "cell_type": "code",
   "execution_count": 9,
   "metadata": {},
   "outputs": [
    {
     "name": "stdout",
     "output_type": "stream",
     "text": [
      "\n",
      "I have a hamster.\n",
      "It's name is harry.\n",
      "\n",
      "I have a dog.\n",
      "It's name is willie.\n"
     ]
    }
   ],
   "source": [
    "# using keyword arguments\n",
    "describe_pet(animal = 'hamster', name = 'harry')\n",
    "describe_pet(name = 'willie', animal = 'dog')"
   ]
  },
  {
   "cell_type": "code",
   "execution_count": 14,
   "metadata": {},
   "outputs": [],
   "source": [
    "# using a default value \n",
    "def describe_pet(name, animal = 'dog'):\n",
    "    \"Display information about pet\"\n",
    "    print(\"\\nI have a \" + animal + \".\")\n",
    "    print(\"It's name is \" + name + \".\")"
   ]
  },
  {
   "cell_type": "code",
   "execution_count": 16,
   "metadata": {},
   "outputs": [
    {
     "name": "stdout",
     "output_type": "stream",
     "text": [
      "\n",
      "I have a harry.\n",
      "It's name is hamster.\n",
      "\n",
      "I have a dog.\n",
      "It's name is willie.\n"
     ]
    }
   ],
   "source": [
    "describe_pet('hamster','harry')\n",
    "describe_pet('willie')"
   ]
  },
  {
   "cell_type": "code",
   "execution_count": 17,
   "metadata": {},
   "outputs": [],
   "source": [
    "# using a none to make an argument optional\n",
    "def describe_pet(animal, name = None):\n",
    "    \"Display information about pet\"\n",
    "    print(\"\\nI have a \" + animal + \".\")\n",
    "    if name:\n",
    "        print(\"It's name is \" + name + \".\")"
   ]
  },
  {
   "cell_type": "code",
   "execution_count": 18,
   "metadata": {},
   "outputs": [
    {
     "name": "stdout",
     "output_type": "stream",
     "text": [
      "\n",
      "I have a hamster.\n",
      "It's name is harry.\n",
      "\n",
      "I have a snake.\n"
     ]
    }
   ],
   "source": [
    "describe_pet('hamster', 'harry')\n",
    "describe_pet('snake')"
   ]
  },
  {
   "cell_type": "code",
   "execution_count": 19,
   "metadata": {},
   "outputs": [],
   "source": [
    "# returns a single value \n",
    "def get_full_name(first, last):\n",
    "    \"return a neatly formatted full name.\"\n",
    "    full_name = first + ' ' + last\n",
    "    return full_name.title()"
   ]
  },
  {
   "cell_type": "code",
   "execution_count": 21,
   "metadata": {},
   "outputs": [
    {
     "name": "stdout",
     "output_type": "stream",
     "text": [
      "Shreyash Sabde\n"
     ]
    }
   ],
   "source": [
    "musician = get_full_name('shreyash', 'Sabde')\n",
    "print(musician)"
   ]
  },
  {
   "cell_type": "code",
   "execution_count": 22,
   "metadata": {},
   "outputs": [],
   "source": [
    "musician = get_full_name('shreyash', 'Sabde')"
   ]
  },
  {
   "cell_type": "code",
   "execution_count": 23,
   "metadata": {},
   "outputs": [
    {
     "data": {
      "text/plain": [
       "'Shreyash Sabde'"
      ]
     },
     "execution_count": 23,
     "metadata": {},
     "output_type": "execute_result"
    }
   ],
   "source": [
    "get_full_name('shreyash', 'Sabde')"
   ]
  },
  {
   "cell_type": "code",
   "execution_count": 28,
   "metadata": {},
   "outputs": [],
   "source": [
    "# running a dictionary\n",
    "def build_person(first, last):\n",
    "    person = {'first': first, 'last': last}\n",
    "    return person"
   ]
  },
  {
   "cell_type": "code",
   "execution_count": 29,
   "metadata": {},
   "outputs": [
    {
     "name": "stdout",
     "output_type": "stream",
     "text": [
      "{'first': 'shree', 'last': 'sabde'}\n"
     ]
    }
   ],
   "source": [
    "musician = build_person('shree', 'sabde')\n",
    "print(musician)"
   ]
  },
  {
   "cell_type": "code",
   "execution_count": 30,
   "metadata": {},
   "outputs": [],
   "source": [
    "# running a dictionary with optional values\n",
    "def build_person(first, last, age = None):\n",
    "    person = {'first': first, 'last': last}\n",
    "    if age:\n",
    "        person['age'] = age\n",
    "    return person"
   ]
  },
  {
   "cell_type": "code",
   "execution_count": 33,
   "metadata": {},
   "outputs": [
    {
     "name": "stdout",
     "output_type": "stream",
     "text": [
      "{'first': 'Shree', 'last': 'Sabde', 'age': 24}\n"
     ]
    }
   ],
   "source": [
    "musician = build_person('Shree', 'Sabde', 24)\n",
    "print(musician)"
   ]
  },
  {
   "cell_type": "code",
   "execution_count": 34,
   "metadata": {},
   "outputs": [
    {
     "name": "stdout",
     "output_type": "stream",
     "text": [
      "{'first': 'Shree', 'last': 'Sabde'}\n"
     ]
    }
   ],
   "source": [
    "musician = build_person('Shree', 'Sabde')\n",
    "print(musician)"
   ]
  },
  {
   "cell_type": "code",
   "execution_count": 35,
   "metadata": {},
   "outputs": [],
   "source": [
    "# passing a list to a function \n",
    "def greet_users(names):\n",
    "    \"print a simple greetingto everyone\"\n",
    "    for name in names:\n",
    "        msg = \"Hello, \" + name + \"!\"\n",
    "        print(msg)"
   ]
  },
  {
   "cell_type": "code",
   "execution_count": 36,
   "metadata": {},
   "outputs": [
    {
     "name": "stdout",
     "output_type": "stream",
     "text": [
      "Hello, shree!\n",
      "Hello, vicky!\n",
      "Hello, prabhu!\n"
     ]
    }
   ],
   "source": [
    "usernames = ['shree', 'vicky', 'prabhu']\n",
    "greet_users(usernames)"
   ]
  },
  {
   "cell_type": "code",
   "execution_count": 39,
   "metadata": {},
   "outputs": [],
   "source": [
    "def make_pizza(size, *toppings):\n",
    "    \"make a pizza\"\n",
    "    print(\"\\nMaking a \"+ size + \"pizza.\")\n",
    "    print(\"Toppings :\")\n",
    "    for topping in toppings:\n",
    "        print(\"-\"+topping)"
   ]
  },
  {
   "cell_type": "code",
   "execution_count": 40,
   "metadata": {},
   "outputs": [
    {
     "name": "stdout",
     "output_type": "stream",
     "text": [
      "\n",
      "Making a smallpizza.\n",
      "Toppings :\n",
      "-pepperoni\n"
     ]
    }
   ],
   "source": [
    "make_pizza('small', 'pepperoni')"
   ]
  },
  {
   "cell_type": "code",
   "execution_count": 41,
   "metadata": {},
   "outputs": [
    {
     "name": "stdout",
     "output_type": "stream",
     "text": [
      "\n",
      "Making a largepizza.\n",
      "Toppings :\n",
      "-bacon bits\n",
      "-pineapple\n"
     ]
    }
   ],
   "source": [
    "make_pizza('large', 'bacon bits', 'pineapple')"
   ]
  },
  {
   "cell_type": "code",
   "execution_count": 42,
   "metadata": {},
   "outputs": [
    {
     "name": "stdout",
     "output_type": "stream",
     "text": [
      "\n",
      "Making a mediumpizza.\n",
      "Toppings :\n",
      "-mushrooms\n",
      "-peppers\n",
      "-onions\n",
      "-extra cheese\n"
     ]
    }
   ],
   "source": [
    "make_pizza('medium', 'mushrooms', 'peppers', 'onions', 'extra cheese')"
   ]
  },
  {
   "cell_type": "code",
   "execution_count": 47,
   "metadata": {},
   "outputs": [],
   "source": [
    "# collecting an arbitary number of keyword arguments\n",
    "def build_profile(first, last, **user_info):\n",
    "    \"Build user's profile dictionary\"\n",
    "    \"Build a dict with required keys\"\n",
    "    profile = {'first': first, 'last': last}\n",
    "    for key, value in user_info.items():\n",
    "        profile[key] = value\n",
    "    return profile"
   ]
  },
  {
   "cell_type": "code",
   "execution_count": 48,
   "metadata": {},
   "outputs": [],
   "source": [
    "user_0 = build_profile('albert', 'einstein', location='princeton')\n",
    "user_1 = build_profile('marie', 'curie', location='paris', field = \"chemistry\")"
   ]
  },
  {
   "cell_type": "code",
   "execution_count": 49,
   "metadata": {},
   "outputs": [
    {
     "name": "stdout",
     "output_type": "stream",
     "text": [
      "{'first': 'albert', 'last': 'einstein', 'location': 'princeton'}\n",
      "{'first': 'marie', 'last': 'curie', 'location': 'paris', 'field': 'chemistry'}\n"
     ]
    }
   ],
   "source": [
    "print(user_0)\n",
    "print(user_1)"
   ]
  },
  {
   "cell_type": "code",
   "execution_count": null,
   "metadata": {},
   "outputs": [],
   "source": []
  }
 ],
 "metadata": {
  "kernelspec": {
   "display_name": "Python 3",
   "language": "python",
   "name": "python3"
  },
  "language_info": {
   "codemirror_mode": {
    "name": "ipython",
    "version": 3
   },
   "file_extension": ".py",
   "mimetype": "text/x-python",
   "name": "python",
   "nbconvert_exporter": "python",
   "pygments_lexer": "ipython3",
   "version": "3.8.5"
  }
 },
 "nbformat": 4,
 "nbformat_minor": 4
}
